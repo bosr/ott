{
 "cells": [
  {
   "cell_type": "markdown",
   "id": "d9ee0ff0-e502-4809-a553-caf3d17ddb7e",
   "metadata": {
    "tags": []
   },
   "source": [
    "# Tracking progress in OTT solvers.\n",
    "\n",
    "This tutorial shows how to track progress and errors during iterations of the following solvers:\n",
    "\n",
    "- {class}`~ott.solvers.linear.sinkhorn.Sinkhorn`\n",
    "- {class}`~ott.solvers.linear.sinkhorn_lr.LRSinkhorn`\n",
    "- {class}`~ott.solvers.quadratic.gromov_wasserstein.GromovWasserstein`.\n",
    "\n",
    "We'll see that we simply need to provide a callback function to the solvers."
   ]
  },
  {
   "cell_type": "code",
   "execution_count": 1,
   "id": "d7ea0e9d-f518-4798-90d0-062776b4ac5d",
   "metadata": {},
   "outputs": [],
   "source": [
    "import sys\n",
    "\n",
    "if \"google.colab\" in sys.modules:\n",
    "    %pip install -q git+https://github.com/ott-jax/ott@main\n",
    "    %pip install -q tqdm"
   ]
  },
  {
   "cell_type": "code",
   "execution_count": 2,
   "id": "9dca5e59-5c90-4cf2-ae19-7043f68ebc66",
   "metadata": {},
   "outputs": [],
   "source": [
    "from tqdm import tqdm\n",
    "\n",
    "import jax\n",
    "import jax.numpy as jnp\n",
    "import numpy as np\n",
    "\n",
    "import matplotlib.pyplot as plt\n",
    "\n",
    "from ott import utils\n",
    "from ott.geometry import pointcloud\n",
    "from ott.problems.linear import linear_problem\n",
    "from ott.problems.quadratic import quadratic_problem\n",
    "from ott.solvers.linear import sinkhorn, sinkhorn_lr\n",
    "from ott.solvers.quadratic import gromov_wasserstein"
   ]
  },
  {
   "cell_type": "markdown",
   "id": "8b551db9-f308-4540-a57f-0d4c74d48feb",
   "metadata": {},
   "source": [
    "## How to track progress\n",
    "\n",
    "{mod}`ott` offers a simple and flexible mechanism that works well with {func}`~jax.jit`, and applies to both the functional interface and the class interface.\n",
    "\n",
    "The solvers {class}`~ott.solvers.linear.sinkhorn.Sinkhorn`, low-rank Sinkhorn {class}`ott.solvers.linear.sinkhorn_lr.LRSinkhorn`, and {class}`~ott.solvers.quadratic.gromov_wasserstein.GromovWasserstein` only report progress if we pass a callback function (with some specific signature) to its initializer. This callback is called at each iteration."
   ]
  },
  {
   "cell_type": "markdown",
   "id": "f74f472b-12a3-49ad-9d81-8431674f512e",
   "metadata": {},
   "source": [
    "### Callback function signature\n",
    "\n",
    "The required signature of the callback function is: `(status: Tuple[ndarray, ndarray, ndarray, NamedTuple], args: Any) -> None`.\n",
    "\n",
    "The arguments are:\n",
    "\n",
    "- status: a tuple of:\n",
    "  - the current iteration index (0-based)\n",
    "  - the number of inner iterations after which the error is computed\n",
    "  - the total number of iterations\n",
    "  - the current solver state class: {class}`~ott.solvers.linear.sinkhorn.SinkhornState` or {class}`~ott.solvers.linear.sinkhorn_lr.LRSinkhornState`, or {class}`~ott.solvers.quadratic.gromov_wasserstein.GWState`. For technical reasons, the type of this argument in the signature is simply {class}`~typing.NamedTuple` (the common super-type).\n",
    "\n",
    "-  args: unused, see {mod}`jax.experimental.host_callback`.\n",
    "\n",
    "Note:\n",
    "\n",
    "- Above, the {class}`~numpy.ndarray` types are passed by the underlying mechanism {mod}`~jax.experimental.host_callback`, but their arguments simply contain one integer value and can be safely cast."
   ]
  },
  {
   "cell_type": "markdown",
   "id": "46ebff53-e738-44ea-9cc7-173d560f6a75",
   "metadata": {},
   "source": [
    "## Linear problem without tracking (default behavior)\n",
    "\n",
    "Let's start with the {class}`~ott.solvers.linear.sinkhorn.Sinkhorn` solver and setup a basic linear problem:"
   ]
  },
  {
   "cell_type": "code",
   "execution_count": 3,
   "id": "334d6131-e52c-489b-9aa5-4a4c0d8c462c",
   "metadata": {},
   "outputs": [],
   "source": [
    "rngs = jax.random.split(jax.random.PRNGKey(0), 2)\n",
    "d, n_x, n_y = 2, 7, 11\n",
    "x = jax.random.normal(rngs[0], (n_x, d))\n",
    "y = jax.random.normal(rngs[1], (n_y, d)) + 0.5"
   ]
  },
  {
   "cell_type": "code",
   "execution_count": 4,
   "id": "d64f5e0c-9053-4364-bed3-aff2ca7c6018",
   "metadata": {},
   "outputs": [],
   "source": [
    "geom = pointcloud.PointCloud(x, y)"
   ]
  },
  {
   "cell_type": "markdown",
   "id": "a7583315-7340-4d0f-95b5-3a2c0398bce3",
   "metadata": {},
   "source": [
    "This problem is very simple, so the {class}`~ott.solvers.linear.sinkhorn.Sinkhorn` solver converges after only 7 iterations. The solver would otherwise keep iterating for 200 steps (default value)."
   ]
  },
  {
   "cell_type": "code",
   "execution_count": 5,
   "id": "03fce59f-1435-400f-a463-6576f5979260",
   "metadata": {},
   "outputs": [
    {
     "name": "stdout",
     "output_type": "stream",
     "text": [
      "has converged: True, #iters: 7, cost: 1.2429015636444092\n"
     ]
    }
   ],
   "source": [
    "solve_fn = jax.jit(sinkhorn.solve)\n",
    "ot = solve_fn(geom)\n",
    "\n",
    "print(\n",
    "    f\"has converged: {ot.converged}, #iters: {ot.n_iters}, cost: {ot.reg_ot_cost}\"\n",
    ")"
   ]
  },
  {
   "cell_type": "markdown",
   "id": "e0fb44c5-a0d2-43ce-8b69-a82e84768dab",
   "metadata": {},
   "source": [
    "For cases as simple as this one, it fine to not track progress (the default behavior). However when tackling larger problems, we will probably want to track the various metrics that the Sinkhorn algorithm updates at each iteration.\n",
    "\n",
    "In the next sections, we show how to track progress for that same example."
   ]
  },
  {
   "cell_type": "markdown",
   "id": "cfaa93d7-728d-4995-b625-5bdd682af4de",
   "metadata": {},
   "source": [
    "## Examples\n",
    "\n",
    "Here are a few examples of how to track progress for Sinkhorn and low-rank Sinkhorn."
   ]
  },
  {
   "cell_type": "markdown",
   "id": "dd179a46-7772-4656-a837-411667e8c26c",
   "metadata": {},
   "source": [
    "### Tracking progress for Sinkhorn via the functional interface"
   ]
  },
  {
   "cell_type": "markdown",
   "id": "6732bf21-a0c3-47eb-bb5d-0111724340aa",
   "metadata": {},
   "source": [
    "#### With the basic callback function\n",
    "\n",
    "\n",
    "{mod}`ott` provides a basic callback function: {func}`~ott.utils.default_progress_fn` that we can use directly: it simply prints iteration and error to the console. It can also serve as a basis for customizations.\n",
    "\n",
    "Let's simply pass that basic callback as a static argument:"
   ]
  },
  {
   "cell_type": "code",
   "execution_count": 6,
   "id": "b031225b-5c6a-4a00-a567-d336a80a66c9",
   "metadata": {},
   "outputs": [
    {
     "name": "stdout",
     "output_type": "stream",
     "text": [
      "10 / 2000 -- 0.049124784767627716\n",
      "20 / 2000 -- 0.019962385296821594\n",
      "30 / 2000 -- 0.00910455733537674\n",
      "40 / 2000 -- 0.004339158535003662\n",
      "50 / 2000 -- 0.002111591398715973\n",
      "60 / 2000 -- 0.001037590205669403\n",
      "70 / 2000 -- 0.0005124583840370178\n",
      "has converged: True, #iters: 7, cost: 1.2429015636444092\n"
     ]
    }
   ],
   "source": [
    "solve_fn = jax.jit(sinkhorn.solve, static_argnames=[\"progress_fn\"])\n",
    "ot = solve_fn(geom, a=None, b=None, progress_fn=utils.default_progress_fn)\n",
    "\n",
    "print(\n",
    "    f\"has converged: {ot.converged}, #iters: {ot.n_iters}, cost: {ot.reg_ot_cost}\"\n",
    ")"
   ]
  },
  {
   "cell_type": "markdown",
   "id": "e7b51753-15c5-47d0-b7cb-f9f4cca84f63",
   "metadata": {},
   "source": [
    "This reveals that the solver reports its metrics each 10 _inner_ iterations (default value)."
   ]
  },
  {
   "cell_type": "markdown",
   "id": "e1957d0f-7e53-4dcd-85f1-a61ddb7e99bf",
   "metadata": {},
   "source": [
    "#### With `tqdm`\n",
    "\n",
    "Let's first define a function that updates a `tqdm` progress bar."
   ]
  },
  {
   "cell_type": "code",
   "execution_count": 7,
   "id": "f7ac907f-2327-4c79-88f4-b7fdae72df75",
   "metadata": {},
   "outputs": [],
   "source": [
    "def progress_fn(status, *args):\n",
    "    iteration, inner_iterations, total_iter, state = status\n",
    "    iteration = int(iteration) + 1  # from [0;n-1] to [1;n]\n",
    "    inner_iterations = int(inner_iterations)\n",
    "    total_iter = int(total_iter)\n",
    "    errors = np.asarray(state.errors).ravel()\n",
    "\n",
    "    # Avoid reporting error on each iteration,\n",
    "    # because errors are only computed every `inner_iterations`.\n",
    "    if iteration % inner_iterations == 0:\n",
    "        error_idx = max(0, iteration // inner_iterations - 1)\n",
    "        error = errors[error_idx]\n",
    "\n",
    "        pbar.set_postfix_str(f\"error: {error:0.6e}\")\n",
    "        pbar.total = total_iter // inner_iterations\n",
    "        pbar.update()"
   ]
  },
  {
   "cell_type": "markdown",
   "id": "0a412dc6-fada-4ba7-a49d-b29d42f0fc8f",
   "metadata": {},
   "source": [
    "and let's use it in the context of an existing `tqdm` progress bar:"
   ]
  },
  {
   "cell_type": "code",
   "execution_count": 8,
   "id": "d3ab5bce-bb3f-49ae-827c-39548adf2f48",
   "metadata": {},
   "outputs": [
    {
     "name": "stderr",
     "output_type": "stream",
     "text": [
      "  4%|███▍                                                                                              | 7/200 [00:00<00:12, 15.94it/s, error: 5.124584e-04]\n"
     ]
    }
   ],
   "source": [
    "with tqdm() as pbar:\n",
    "    solve_fn = jax.jit(sinkhorn.solve, static_argnames=[\"progress_fn\"])\n",
    "    ot = solve_fn(geom, a=None, b=None, progress_fn=progress_fn)"
   ]
  },
  {
   "cell_type": "code",
   "execution_count": 9,
   "id": "dee13ce4-344c-47e2-ad5e-599e14e4dce1",
   "metadata": {},
   "outputs": [
    {
     "name": "stdout",
     "output_type": "stream",
     "text": [
      "has converged: True, #iters: 7, cost: 1.2429015636444092\n"
     ]
    }
   ],
   "source": [
    "print(\n",
    "    f\"has converged: {ot.converged}, #iters: {ot.n_iters}, cost: {ot.reg_ot_cost}\"\n",
    ")"
   ]
  },
  {
   "cell_type": "markdown",
   "id": "e3842473-76b6-401f-8c05-54e7244d8c95",
   "metadata": {},
   "source": [
    "### Tracking progress for Sinkhorn via the class interface"
   ]
  },
  {
   "cell_type": "markdown",
   "id": "a52db5bb-a5cf-4484-953b-211f82a487a2",
   "metadata": {},
   "source": [
    "Let's reiterate, but this time we provide the callback function to the {class}`~ott.solvers.linear.sinkhorn.Sinkhorn` class initializer and display progress with `tqdm`:"
   ]
  },
  {
   "cell_type": "code",
   "execution_count": 10,
   "id": "d2d70a82-8203-45e6-917b-dd7fc59dafb8",
   "metadata": {},
   "outputs": [
    {
     "name": "stderr",
     "output_type": "stream",
     "text": [
      "  4%|███▍                                                                                              | 7/200 [00:00<00:11, 16.10it/s, error: 5.124584e-04]\n"
     ]
    }
   ],
   "source": [
    "prob = linear_problem.LinearProblem(geom)\n",
    "\n",
    "with tqdm() as pbar:\n",
    "    solver = sinkhorn.Sinkhorn(progress_fn=progress_fn)\n",
    "    ot = jax.jit(solver)(prob)"
   ]
  },
  {
   "cell_type": "code",
   "execution_count": 11,
   "id": "e020a49f-e9f9-4d3e-a5d5-98b08c7d243d",
   "metadata": {},
   "outputs": [
    {
     "name": "stdout",
     "output_type": "stream",
     "text": [
      "has converged: True, #iters: 7, cost: 1.2429015636444092\n"
     ]
    }
   ],
   "source": [
    "print(\n",
    "    f\"has converged: {ot.converged}, #iters: {ot.n_iters}, cost: {ot.reg_ot_cost}\"\n",
    ")"
   ]
  },
  {
   "cell_type": "markdown",
   "id": "b375412e-e374-445f-9330-0cf785d1965e",
   "metadata": {},
   "source": [
    "### Tracking progress of Low-Rank Sinkhorn iterations via the class interface\n",
    "\n",
    "We can also track progress of the Low-rank Sinkhorn solver, however because it currently doesn't have a functional interface, we can only use the class interface {class}`~ott.solvers.linear.sinkhorn_lr.LRSinkhorn`:"
   ]
  },
  {
   "cell_type": "code",
   "execution_count": 12,
   "id": "a78ab13c-d9a2-4201-bb10-cb9bd4ac5f57",
   "metadata": {},
   "outputs": [
    {
     "name": "stderr",
     "output_type": "stream",
     "text": [
      "  8%|███████▊                                                                                         | 16/200 [00:00<00:09, 19.80it/s, error: 3.191826e-04]\n"
     ]
    }
   ],
   "source": [
    "prob = linear_problem.LinearProblem(geom)\n",
    "rank = 2\n",
    "\n",
    "with tqdm() as pbar:\n",
    "    solver = sinkhorn_lr.LRSinkhorn(rank, progress_fn=progress_fn)\n",
    "    ot = jax.jit(solver)(prob)"
   ]
  },
  {
   "cell_type": "code",
   "execution_count": 13,
   "id": "10563fb7-e982-4607-9f48-c7ac73516abc",
   "metadata": {},
   "outputs": [
    {
     "name": "stdout",
     "output_type": "stream",
     "text": [
      "has converged: True, cost: 1.7340877056121826\n"
     ]
    }
   ],
   "source": [
    "print(f\"has converged: {ot.converged}, cost: {ot.reg_ot_cost}\")"
   ]
  },
  {
   "cell_type": "markdown",
   "id": "1c7a4594-2388-4c07-a670-26cc4f7670fa",
   "metadata": {},
   "source": [
    "## Tracking progress of Gromov-Wasserstein iterations\n",
    "\n",
    "We can track progress in the same way as with the Sinkhorn solvers. Let's define a simple quadratic problem (the same as in the {doc}`docs/tutorials/notebooks/gromov_wasserstein.ipynb` notebook):"
   ]
  },
  {
   "cell_type": "code",
   "execution_count": 14,
   "id": "942ca588-4c3b-4cc6-b2d8-642992427c51",
   "metadata": {},
   "outputs": [],
   "source": [
    "# Samples spiral\n",
    "def sample_spiral(\n",
    "    n, min_radius, max_radius, key, min_angle=0, max_angle=10, noise=1.0\n",
    "):\n",
    "    radius = jnp.linspace(min_radius, max_radius, n)\n",
    "    angles = jnp.linspace(min_angle, max_angle, n)\n",
    "    data = []\n",
    "    noise = jax.random.normal(key, (2, n)) * noise\n",
    "    for i in range(n):\n",
    "        x = (radius[i] + noise[0, i]) * jnp.cos(angles[i])\n",
    "        y = (radius[i] + noise[1, i]) * jnp.sin(angles[i])\n",
    "        data.append([x, y])\n",
    "    data = jnp.array(data)\n",
    "    return data\n",
    "\n",
    "\n",
    "# Samples Swiss roll\n",
    "def sample_swiss_roll(\n",
    "    n, min_radius, max_radius, length, key, min_angle=0, max_angle=10, noise=0.1\n",
    "):\n",
    "    spiral = sample_spiral(\n",
    "        n, min_radius, max_radius, key[0], min_angle, max_angle, noise\n",
    "    )\n",
    "    third_axis = jax.random.uniform(key[1], (n, 1)) * length\n",
    "    swiss_roll = jnp.hstack((spiral[:, 0:1], third_axis, spiral[:, 1:]))\n",
    "    return swiss_roll\n",
    "\n",
    "\n",
    "# Data parameters\n",
    "n_spiral = 400\n",
    "n_swiss_roll = 500\n",
    "length = 10\n",
    "min_radius = 3\n",
    "max_radius = 10\n",
    "noise = 0.8\n",
    "min_angle = 0\n",
    "max_angle = 9\n",
    "angle_shift = 3\n",
    "\n",
    "# Seed\n",
    "seed = 14\n",
    "key = jax.random.PRNGKey(seed)\n",
    "key, *subkey = jax.random.split(key, 4)"
   ]
  },
  {
   "cell_type": "code",
   "execution_count": 15,
   "id": "1abae6d0-588b-4ee4-afd9-98ae0ce2d871",
   "metadata": {},
   "outputs": [],
   "source": [
    "spiral = sample_spiral(\n",
    "    n_spiral,\n",
    "    min_radius,\n",
    "    max_radius,\n",
    "    key=subkey[0],\n",
    "    min_angle=min_angle + angle_shift,\n",
    "    max_angle=max_angle + angle_shift,\n",
    "    noise=noise,\n",
    ")\n",
    "swiss_roll = sample_swiss_roll(\n",
    "    n_swiss_roll,\n",
    "    min_radius,\n",
    "    max_radius,\n",
    "    key=subkey[1:],\n",
    "    length=length,\n",
    "    min_angle=min_angle,\n",
    "    max_angle=max_angle,\n",
    ")"
   ]
  },
  {
   "cell_type": "markdown",
   "id": "d77e9d5e-3203-4598-ba38-338a83790919",
   "metadata": {},
   "source": [
    "and let's track progress while the solver iterates:"
   ]
  },
  {
   "cell_type": "code",
   "execution_count": 16,
   "id": "2918b2b8-a2af-421b-9b73-27652858763d",
   "metadata": {},
   "outputs": [
    {
     "name": "stdout",
     "output_type": "stream",
     "text": [
      "1 / 20 -- -1.0\n",
      "2 / 20 -- 0.13043604791164398\n",
      "3 / 20 -- 0.08981532603502274\n",
      "4 / 20 -- 0.06759563088417053\n",
      "5 / 20 -- 0.05465726554393768\n",
      "5 outer iterations were needed.\n",
      "The last Sinkhorn iteration has converged: True\n",
      "The outer loop of Gromov Wasserstein has converged: True\n",
      "The final regularized GW cost is: 1183.608\n"
     ]
    }
   ],
   "source": [
    "# apply Gromov-Wasserstein\n",
    "geom_xx = pointcloud.PointCloud(x=spiral, y=spiral)\n",
    "geom_yy = pointcloud.PointCloud(x=swiss_roll, y=swiss_roll)\n",
    "prob = quadratic_problem.QuadraticProblem(geom_xx, geom_yy)\n",
    "\n",
    "solver = gromov_wasserstein.GromovWasserstein(\n",
    "    epsilon=100.0,\n",
    "    max_iterations=20,\n",
    "    store_inner_errors=True,  # needed for reporting errors\n",
    "    progress_fn=utils.default_progress_fn,  # callback function\n",
    ")\n",
    "out = solver(prob)\n",
    "\n",
    "n_outer_iterations = jnp.sum(out.costs != -1)\n",
    "has_converged = bool(out.linear_convergence[n_outer_iterations - 1])\n",
    "print(f\"{n_outer_iterations} outer iterations were needed.\")\n",
    "print(f\"The last Sinkhorn iteration has converged: {has_converged}\")\n",
    "print(f\"The outer loop of Gromov Wasserstein has converged: {out.converged}\")\n",
    "print(f\"The final regularized GW cost is: {out.reg_gw_cost:.3f}\")"
   ]
  },
  {
   "cell_type": "markdown",
   "id": "41dc6533-a707-4f3d-bfc8-bb446fda382c",
   "metadata": {},
   "source": [
    "That's it, this is how to track progress of Sinkhorn, Low-rank Sinkhorn, and Gromov-Wasserstein solvers."
   ]
  },
  {
   "cell_type": "code",
   "execution_count": null,
   "id": "3a35db13-4672-4185-aa9d-7f4600fa91c7",
   "metadata": {},
   "outputs": [],
   "source": []
  }
 ],
 "metadata": {
  "kernelspec": {
   "display_name": "Python 3 (ipykernel)",
   "language": "python",
   "name": "python3"
  },
  "language_info": {
   "codemirror_mode": {
    "name": "ipython",
    "version": 3
   },
   "file_extension": ".py",
   "mimetype": "text/x-python",
   "name": "python",
   "nbconvert_exporter": "python",
   "pygments_lexer": "ipython3",
   "version": "3.10.5"
  }
 },
 "nbformat": 4,
 "nbformat_minor": 5
}
